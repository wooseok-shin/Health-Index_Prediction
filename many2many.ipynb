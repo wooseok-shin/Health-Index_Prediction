{
 "cells": [
  {
   "cell_type": "code",
   "execution_count": 1,
   "metadata": {},
   "outputs": [
    {
     "name": "stderr",
     "output_type": "stream",
     "text": [
      "Using TensorFlow backend.\n"
     ]
    }
   ],
   "source": [
    "import pandas as pd\n",
    "import numpy as np\n",
    "from sklearn.model_selection import train_test_split\n",
    "from sklearn import metrics\n",
    "import matplotlib.pyplot as plt\n",
    "%matplotlib inline\n",
    "\n",
    "\n",
    "import keras\n",
    "from keras.utils import np_utils\n",
    "from keras.models import Sequential\n",
    "from keras.layers import Dense, LSTM, Dropout, Activation\n",
    "\n"
   ]
  },
  {
   "cell_type": "code",
   "execution_count": 2,
   "metadata": {},
   "outputs": [],
   "source": [
    "GJ_2009 = pd.read_csv(\"./data/final_group_2009.csv\")\n",
    "GJ_2010 = pd.read_csv(\"./data/final_group_2010.csv\")\n",
    "GJ_2011 = pd.read_csv(\"./data/final_group_2011.csv\")\n",
    "GJ_2012 = pd.read_csv(\"./data/final_group_2012.csv\")\n",
    "GJ_2013 = pd.read_csv(\"./data/final_group_2013.csv\")\n",
    "GJ_2014 = pd.read_csv(\"./data/final_group_2014.csv\")\n",
    "GJ_2015 = pd.read_csv(\"./data/final_group_2015.csv\")\n",
    "GJ_2016 = pd.read_csv(\"./data/final_group_2016.csv\")\n",
    "GJ_2017 = pd.read_csv(\"./data/final_group_2017.csv\")"
   ]
  },
  {
   "cell_type": "code",
   "execution_count": 3,
   "metadata": {},
   "outputs": [
    {
     "data": {
      "text/plain": [
       "Index(['sex', 'year', 'sido', 'height_2016', 'weight_2016', 'waist_2016',\n",
       "       'sight_left_2016', 'sight_right_2016', 'hearing_left_2016',\n",
       "       'hearing_right_2016', 'SBP_2016', 'RPBP_2016', 'cholesterol_2016',\n",
       "       'triglycerides_2016', 'HDL_2016', 'LDL_2016', 'blood_pigment_2016',\n",
       "       'urine_protein_2016', 'serum_creatinine_2016', 'AST_2016', 'ALT_2016',\n",
       "       'gamma_gtp_2016', 'smoking_2016', 'oral_inspection_2016', 'target',\n",
       "       'stress_percentage', 'smoke_percentage', 'alcohol_percentage',\n",
       "       'health_percentage', 'pressure_percentage'],\n",
       "      dtype='object')"
      ]
     },
     "execution_count": 3,
     "metadata": {},
     "output_type": "execute_result"
    }
   ],
   "source": [
    "GJ_2016.columns"
   ]
  },
  {
   "cell_type": "code",
   "execution_count": 4,
   "metadata": {},
   "outputs": [],
   "source": [
    "# 2016년도는 알코올 변수가 없어서 제거\n",
    "\n",
    "del GJ_2009['alcohol_2009']\n",
    "del GJ_2010['alcohol_2010']\n",
    "del GJ_2011['alcohol_2011']\n",
    "del GJ_2012['alcohol_2012']\n",
    "del GJ_2013['alcohol_2013']\n",
    "del GJ_2014['alcohol_2014']\n",
    "del GJ_2015['alcohol_2015']\n",
    "# del GJ_2016['alcohol_2016']\n",
    "del GJ_2017['alcohol_2017']"
   ]
  },
  {
   "cell_type": "code",
   "execution_count": 5,
   "metadata": {},
   "outputs": [
    {
     "data": {
      "text/plain": [
       "0.123965979"
      ]
     },
     "execution_count": 5,
     "metadata": {},
     "output_type": "execute_result"
    }
   ],
   "source": [
    "GJ_2009.loc[0,'target']"
   ]
  },
  {
   "cell_type": "code",
   "execution_count": 6,
   "metadata": {
    "scrolled": true
   },
   "outputs": [
    {
     "data": {
      "text/plain": [
       "0    0.123966\n",
       "0    0.128567\n",
       "0    0.127495\n",
       "0    0.126737\n",
       "0    0.133388\n",
       "0    0.065369\n",
       "0    0.070101\n",
       "0    0.070171\n",
       "0    0.072436\n",
       "dtype: float64"
      ]
     },
     "execution_count": 6,
     "metadata": {},
     "output_type": "execute_result"
    }
   ],
   "source": [
    "group_01_Y =pd.concat( [ pd.Series(GJ_2009.loc[0,'target']),pd.Series(GJ_2010.loc[0,'target']), \n",
    "                       pd.Series(GJ_2011.loc[0,'target']), pd.Series(GJ_2012.loc[0,'target']), \n",
    "                       pd.Series(GJ_2013.loc[0,'target']), pd.Series(GJ_2014.loc[0,'target']), \n",
    "                       pd.Series(GJ_2015.loc[0,'target']), pd.Series(GJ_2016.loc[0,'target']), \n",
    "                       pd.Series(GJ_2017.loc[0,'target']) ])\n",
    "\n",
    "group_01_Y"
   ]
  },
  {
   "cell_type": "code",
   "execution_count": 7,
   "metadata": {},
   "outputs": [],
   "source": [
    "# del GJ_2009['target']\n",
    "# del GJ_2010['target']\n",
    "# del GJ_2011['target']\n",
    "# del GJ_2012['target']\n",
    "# del GJ_2013['target']\n",
    "# del GJ_2014['target']\n",
    "# del GJ_2015['target']\n",
    "# del GJ_2016['target']\n",
    "# del GJ_2017['target']"
   ]
  },
  {
   "cell_type": "code",
   "execution_count": 8,
   "metadata": {},
   "outputs": [
    {
     "data": {
      "text/plain": [
       "(270,)"
      ]
     },
     "execution_count": 8,
     "metadata": {},
     "output_type": "execute_result"
    }
   ],
   "source": [
    "GJ_01 = pd.concat([ GJ_2009.iloc[0, :], GJ_2010.iloc[0, :],GJ_2011.iloc[0, :]\n",
    "           ,GJ_2012.iloc[0, :],GJ_2013.iloc[0, :],GJ_2014.iloc[0, :],GJ_2015.iloc[0, :],\n",
    "           GJ_2016.iloc[0, :],GJ_2017.iloc[0, :] ], axis=0)\n",
    "\n",
    "GJ_01.shape"
   ]
  },
  {
   "cell_type": "code",
   "execution_count": 9,
   "metadata": {},
   "outputs": [],
   "source": [
    "group_01_X = pd.DataFrame(np.array(GJ_01).reshape(9,30))"
   ]
  },
  {
   "cell_type": "code",
   "execution_count": 10,
   "metadata": {},
   "outputs": [
    {
     "data": {
      "text/html": [
       "<div>\n",
       "<style scoped>\n",
       "    .dataframe tbody tr th:only-of-type {\n",
       "        vertical-align: middle;\n",
       "    }\n",
       "\n",
       "    .dataframe tbody tr th {\n",
       "        vertical-align: top;\n",
       "    }\n",
       "\n",
       "    .dataframe thead th {\n",
       "        text-align: right;\n",
       "    }\n",
       "</style>\n",
       "<table border=\"1\" class=\"dataframe\">\n",
       "  <thead>\n",
       "    <tr style=\"text-align: right;\">\n",
       "      <th></th>\n",
       "      <th>0</th>\n",
       "      <th>1</th>\n",
       "      <th>2</th>\n",
       "      <th>3</th>\n",
       "      <th>4</th>\n",
       "      <th>5</th>\n",
       "      <th>6</th>\n",
       "      <th>7</th>\n",
       "      <th>8</th>\n",
       "      <th>9</th>\n",
       "      <th>...</th>\n",
       "      <th>20</th>\n",
       "      <th>21</th>\n",
       "      <th>22</th>\n",
       "      <th>23</th>\n",
       "      <th>24</th>\n",
       "      <th>25</th>\n",
       "      <th>26</th>\n",
       "      <th>27</th>\n",
       "      <th>28</th>\n",
       "      <th>29</th>\n",
       "    </tr>\n",
       "  </thead>\n",
       "  <tbody>\n",
       "    <tr>\n",
       "      <th>0</th>\n",
       "      <td>1.0</td>\n",
       "      <td>5.0</td>\n",
       "      <td>11.0</td>\n",
       "      <td>164.082246</td>\n",
       "      <td>64.275584</td>\n",
       "      <td>85.066084</td>\n",
       "      <td>0.835089</td>\n",
       "      <td>0.849314</td>\n",
       "      <td>1.050541</td>\n",
       "      <td>1.042505</td>\n",
       "      <td>...</td>\n",
       "      <td>25.433064</td>\n",
       "      <td>42.639791</td>\n",
       "      <td>1.882801</td>\n",
       "      <td>0.331779</td>\n",
       "      <td>0.123966</td>\n",
       "      <td>6.022633</td>\n",
       "      <td>9.439318</td>\n",
       "      <td>5.269804</td>\n",
       "      <td>9.477925</td>\n",
       "      <td>4.864434</td>\n",
       "    </tr>\n",
       "    <tr>\n",
       "      <th>1</th>\n",
       "      <td>1.0</td>\n",
       "      <td>5.0</td>\n",
       "      <td>11.0</td>\n",
       "      <td>164.286355</td>\n",
       "      <td>64.587731</td>\n",
       "      <td>85.115767</td>\n",
       "      <td>0.850260</td>\n",
       "      <td>0.853051</td>\n",
       "      <td>1.051059</td>\n",
       "      <td>1.044525</td>\n",
       "      <td>...</td>\n",
       "      <td>25.274991</td>\n",
       "      <td>42.498773</td>\n",
       "      <td>1.879216</td>\n",
       "      <td>0.339532</td>\n",
       "      <td>0.128567</td>\n",
       "      <td>5.447836</td>\n",
       "      <td>10.318163</td>\n",
       "      <td>5.139831</td>\n",
       "      <td>6.487352</td>\n",
       "      <td>4.312068</td>\n",
       "    </tr>\n",
       "    <tr>\n",
       "      <th>2</th>\n",
       "      <td>1.0</td>\n",
       "      <td>5.0</td>\n",
       "      <td>11.0</td>\n",
       "      <td>164.192092</td>\n",
       "      <td>64.525130</td>\n",
       "      <td>85.025088</td>\n",
       "      <td>0.842970</td>\n",
       "      <td>0.854034</td>\n",
       "      <td>1.046306</td>\n",
       "      <td>1.040214</td>\n",
       "      <td>...</td>\n",
       "      <td>24.761978</td>\n",
       "      <td>42.412784</td>\n",
       "      <td>1.908642</td>\n",
       "      <td>0.313033</td>\n",
       "      <td>0.127495</td>\n",
       "      <td>5.242181</td>\n",
       "      <td>9.025001</td>\n",
       "      <td>5.395798</td>\n",
       "      <td>7.162394</td>\n",
       "      <td>5.991064</td>\n",
       "    </tr>\n",
       "    <tr>\n",
       "      <th>3</th>\n",
       "      <td>1.0</td>\n",
       "      <td>5.0</td>\n",
       "      <td>11.0</td>\n",
       "      <td>164.198746</td>\n",
       "      <td>64.522639</td>\n",
       "      <td>85.004177</td>\n",
       "      <td>0.858097</td>\n",
       "      <td>0.857639</td>\n",
       "      <td>1.047118</td>\n",
       "      <td>1.042304</td>\n",
       "      <td>...</td>\n",
       "      <td>25.581728</td>\n",
       "      <td>42.685983</td>\n",
       "      <td>1.902737</td>\n",
       "      <td>0.341636</td>\n",
       "      <td>0.126737</td>\n",
       "      <td>5.344020</td>\n",
       "      <td>9.481327</td>\n",
       "      <td>5.324866</td>\n",
       "      <td>7.163669</td>\n",
       "      <td>5.152478</td>\n",
       "    </tr>\n",
       "    <tr>\n",
       "      <th>4</th>\n",
       "      <td>1.0</td>\n",
       "      <td>5.0</td>\n",
       "      <td>11.0</td>\n",
       "      <td>164.299008</td>\n",
       "      <td>64.643790</td>\n",
       "      <td>84.942024</td>\n",
       "      <td>0.867557</td>\n",
       "      <td>0.870964</td>\n",
       "      <td>1.046491</td>\n",
       "      <td>1.042075</td>\n",
       "      <td>...</td>\n",
       "      <td>25.444710</td>\n",
       "      <td>42.365930</td>\n",
       "      <td>1.912343</td>\n",
       "      <td>0.352282</td>\n",
       "      <td>0.133388</td>\n",
       "      <td>5.163603</td>\n",
       "      <td>9.145865</td>\n",
       "      <td>4.934956</td>\n",
       "      <td>7.030884</td>\n",
       "      <td>5.430357</td>\n",
       "    </tr>\n",
       "    <tr>\n",
       "      <th>5</th>\n",
       "      <td>1.0</td>\n",
       "      <td>5.0</td>\n",
       "      <td>11.0</td>\n",
       "      <td>173.919558</td>\n",
       "      <td>75.197807</td>\n",
       "      <td>84.784052</td>\n",
       "      <td>1.070561</td>\n",
       "      <td>1.069871</td>\n",
       "      <td>1.011224</td>\n",
       "      <td>1.010149</td>\n",
       "      <td>...</td>\n",
       "      <td>30.281621</td>\n",
       "      <td>50.007288</td>\n",
       "      <td>2.199261</td>\n",
       "      <td>0.458504</td>\n",
       "      <td>0.065369</td>\n",
       "      <td>5.642267</td>\n",
       "      <td>10.299977</td>\n",
       "      <td>4.922783</td>\n",
       "      <td>5.907340</td>\n",
       "      <td>5.093187</td>\n",
       "    </tr>\n",
       "    <tr>\n",
       "      <th>6</th>\n",
       "      <td>1.0</td>\n",
       "      <td>5.0</td>\n",
       "      <td>11.0</td>\n",
       "      <td>174.242687</td>\n",
       "      <td>75.816172</td>\n",
       "      <td>85.122337</td>\n",
       "      <td>1.064436</td>\n",
       "      <td>1.068575</td>\n",
       "      <td>1.011531</td>\n",
       "      <td>1.011322</td>\n",
       "      <td>...</td>\n",
       "      <td>31.107678</td>\n",
       "      <td>50.635732</td>\n",
       "      <td>2.173336</td>\n",
       "      <td>0.456646</td>\n",
       "      <td>0.070101</td>\n",
       "      <td>5.862395</td>\n",
       "      <td>8.605695</td>\n",
       "      <td>5.185965</td>\n",
       "      <td>6.613984</td>\n",
       "      <td>5.336282</td>\n",
       "    </tr>\n",
       "    <tr>\n",
       "      <th>7</th>\n",
       "      <td>1.0</td>\n",
       "      <td>5.0</td>\n",
       "      <td>11.0</td>\n",
       "      <td>170.479056</td>\n",
       "      <td>72.408390</td>\n",
       "      <td>85.412760</td>\n",
       "      <td>1.073057</td>\n",
       "      <td>1.071174</td>\n",
       "      <td>1.010183</td>\n",
       "      <td>1.010425</td>\n",
       "      <td>...</td>\n",
       "      <td>31.076026</td>\n",
       "      <td>51.031457</td>\n",
       "      <td>2.205851</td>\n",
       "      <td>0.447156</td>\n",
       "      <td>0.070171</td>\n",
       "      <td>5.716449</td>\n",
       "      <td>8.174336</td>\n",
       "      <td>4.785431</td>\n",
       "      <td>6.610226</td>\n",
       "      <td>5.735070</td>\n",
       "    </tr>\n",
       "    <tr>\n",
       "      <th>8</th>\n",
       "      <td>1.0</td>\n",
       "      <td>5.0</td>\n",
       "      <td>11.0</td>\n",
       "      <td>170.454959</td>\n",
       "      <td>72.630210</td>\n",
       "      <td>85.666327</td>\n",
       "      <td>1.068981</td>\n",
       "      <td>1.072022</td>\n",
       "      <td>1.010127</td>\n",
       "      <td>1.009610</td>\n",
       "      <td>...</td>\n",
       "      <td>31.658272</td>\n",
       "      <td>50.963437</td>\n",
       "      <td>2.177280</td>\n",
       "      <td>0.444054</td>\n",
       "      <td>0.072436</td>\n",
       "      <td>4.928141</td>\n",
       "      <td>8.545803</td>\n",
       "      <td>5.020429</td>\n",
       "      <td>5.020429</td>\n",
       "      <td>4.965056</td>\n",
       "    </tr>\n",
       "  </tbody>\n",
       "</table>\n",
       "<p>9 rows × 30 columns</p>\n",
       "</div>"
      ],
      "text/plain": [
       "    0    1     2           3          4          5         6         7   \\\n",
       "0  1.0  5.0  11.0  164.082246  64.275584  85.066084  0.835089  0.849314   \n",
       "1  1.0  5.0  11.0  164.286355  64.587731  85.115767  0.850260  0.853051   \n",
       "2  1.0  5.0  11.0  164.192092  64.525130  85.025088  0.842970  0.854034   \n",
       "3  1.0  5.0  11.0  164.198746  64.522639  85.004177  0.858097  0.857639   \n",
       "4  1.0  5.0  11.0  164.299008  64.643790  84.942024  0.867557  0.870964   \n",
       "5  1.0  5.0  11.0  173.919558  75.197807  84.784052  1.070561  1.069871   \n",
       "6  1.0  5.0  11.0  174.242687  75.816172  85.122337  1.064436  1.068575   \n",
       "7  1.0  5.0  11.0  170.479056  72.408390  85.412760  1.073057  1.071174   \n",
       "8  1.0  5.0  11.0  170.454959  72.630210  85.666327  1.068981  1.072022   \n",
       "\n",
       "         8         9   ...         20         21        22        23  \\\n",
       "0  1.050541  1.042505  ...  25.433064  42.639791  1.882801  0.331779   \n",
       "1  1.051059  1.044525  ...  25.274991  42.498773  1.879216  0.339532   \n",
       "2  1.046306  1.040214  ...  24.761978  42.412784  1.908642  0.313033   \n",
       "3  1.047118  1.042304  ...  25.581728  42.685983  1.902737  0.341636   \n",
       "4  1.046491  1.042075  ...  25.444710  42.365930  1.912343  0.352282   \n",
       "5  1.011224  1.010149  ...  30.281621  50.007288  2.199261  0.458504   \n",
       "6  1.011531  1.011322  ...  31.107678  50.635732  2.173336  0.456646   \n",
       "7  1.010183  1.010425  ...  31.076026  51.031457  2.205851  0.447156   \n",
       "8  1.010127  1.009610  ...  31.658272  50.963437  2.177280  0.444054   \n",
       "\n",
       "         24        25         26        27        28        29  \n",
       "0  0.123966  6.022633   9.439318  5.269804  9.477925  4.864434  \n",
       "1  0.128567  5.447836  10.318163  5.139831  6.487352  4.312068  \n",
       "2  0.127495  5.242181   9.025001  5.395798  7.162394  5.991064  \n",
       "3  0.126737  5.344020   9.481327  5.324866  7.163669  5.152478  \n",
       "4  0.133388  5.163603   9.145865  4.934956  7.030884  5.430357  \n",
       "5  0.065369  5.642267  10.299977  4.922783  5.907340  5.093187  \n",
       "6  0.070101  5.862395   8.605695  5.185965  6.613984  5.336282  \n",
       "7  0.070171  5.716449   8.174336  4.785431  6.610226  5.735070  \n",
       "8  0.072436  4.928141   8.545803  5.020429  5.020429  4.965056  \n",
       "\n",
       "[9 rows x 30 columns]"
      ]
     },
     "execution_count": 10,
     "metadata": {},
     "output_type": "execute_result"
    }
   ],
   "source": [
    "group_01_X"
   ]
  },
  {
   "cell_type": "code",
   "execution_count": 11,
   "metadata": {},
   "outputs": [
    {
     "data": {
      "text/plain": [
       "((9, 30), (9, 1))"
      ]
     },
     "execution_count": 11,
     "metadata": {},
     "output_type": "execute_result"
    }
   ],
   "source": [
    "group_01_Y = pd.DataFrame(group_01_Y)\n",
    "group_01_X.shape, group_01_Y.shape"
   ]
  },
  {
   "cell_type": "code",
   "execution_count": 12,
   "metadata": {},
   "outputs": [
    {
     "data": {
      "text/plain": [
       "5"
      ]
     },
     "execution_count": 12,
     "metadata": {},
     "output_type": "execute_result"
    }
   ],
   "source": [
    "len(group_01_Y) - 3 - 2 + 1"
   ]
  },
  {
   "cell_type": "code",
   "execution_count": 13,
   "metadata": {},
   "outputs": [],
   "source": [
    "seq_length = 2\n",
    "predict_year = 3\n",
    "\n",
    "dataX= []\n",
    "dataY= []\n",
    "\n",
    "for i in range(0, int( len(group_01_Y) - seq_length - predict_year + 1)):  #1을 더해주지않으면 한칸 덜 가는 현상 발생\n",
    "    _x = group_01_X [i : i+seq_length]\n",
    "    _x = np.array(_x)\n",
    "    _y = group_01_Y [i + seq_length : i+seq_length + predict_year]\n",
    "    _y = np.array(_y)\n",
    "    dataX.append(_x) # dataX 리스트에 추가 / add to dataX's list\n",
    "    dataY.append(_y) # dataY 리스트에 추가 / add to dataY's list"
   ]
  },
  {
   "cell_type": "code",
   "execution_count": 14,
   "metadata": {},
   "outputs": [
    {
     "data": {
      "text/plain": [
       "((5, 2, 30), (5, 3, 1), 5)"
      ]
     },
     "execution_count": 14,
     "metadata": {},
     "output_type": "execute_result"
    }
   ],
   "source": [
    "np.array(dataX).shape, np.array(dataY).shape ,  len(dataY)"
   ]
  },
  {
   "cell_type": "code",
   "execution_count": 15,
   "metadata": {},
   "outputs": [
    {
     "data": {
      "text/plain": [
       "((5, 2, 29), (5, 3, 1))"
      ]
     },
     "execution_count": 15,
     "metadata": {},
     "output_type": "execute_result"
    }
   ],
   "source": [
    "np.array(dataX).shape, np.array(dataY).shape"
   ]
  },
  {
   "cell_type": "code",
   "execution_count": 15,
   "metadata": {},
   "outputs": [
    {
     "name": "stdout",
     "output_type": "stream",
     "text": [
      "==================================================\n",
      "(2, 30)\n",
      "(3, 1)\n",
      "(4, 2, 30)\n",
      "(4, 3, 1)\n",
      "==================================================\n"
     ]
    }
   ],
   "source": [
    "# 학습용 데이터 생성 / Creating Train Set\n",
    "train_size = int(len(dataY) * 0.9)\n",
    "\n",
    "# 데이터를 잘라 학습용 데이터 생성 / Slicing Train Set\n",
    "trainX = np.array(dataX[0:train_size])\n",
    "trainY = np.array(dataY[0:train_size])\n",
    "testX = np.array(dataX[train_size:len(dataX)])\n",
    "testY = np.array(dataY[train_size:len(dataY)])\n",
    "\n",
    "print(\"=\"*50)\n",
    "print(_x.shape)\n",
    "print(_y.shape)\n",
    "print(trainX.shape)\n",
    "print(trainY.shape)\n",
    "print(\"=\"*50)"
   ]
  },
  {
   "cell_type": "code",
   "execution_count": 16,
   "metadata": {},
   "outputs": [
    {
     "data": {
      "text/plain": [
       "((4, 2, 30), (4, 3, 1), (1, 2, 30), (1, 3, 1))"
      ]
     },
     "execution_count": 16,
     "metadata": {},
     "output_type": "execute_result"
    }
   ],
   "source": [
    "trainX.shape, trainY.shape ,  testX.shape, testY.shape"
   ]
  },
  {
   "cell_type": "code",
   "execution_count": 17,
   "metadata": {},
   "outputs": [
    {
     "data": {
      "text/plain": [
       "((4, 3), (1, 3))"
      ]
     },
     "execution_count": 17,
     "metadata": {},
     "output_type": "execute_result"
    }
   ],
   "source": [
    "# Reshape을 해주어야 함\n",
    "\n",
    "train_re_Y = trainY.reshape(4,predict_year)\n",
    "test_re_Y = testY.reshape(1,predict_year)\n",
    "\n",
    "train_re_Y.shape,  test_re_Y.shape"
   ]
  },
  {
   "cell_type": "code",
   "execution_count": 19,
   "metadata": {
    "scrolled": true
   },
   "outputs": [
    {
     "name": "stdout",
     "output_type": "stream",
     "text": [
      "_________________________________________________________________\n",
      "Layer (type)                 Output Shape              Param #   \n",
      "=================================================================\n",
      "lstm_3 (LSTM)                (None, 2, 256)            293888    \n",
      "_________________________________________________________________\n",
      "lstm_4 (LSTM)                (None, 256)               525312    \n",
      "_________________________________________________________________\n",
      "dense_2 (Dense)              (None, 3)                 771       \n",
      "_________________________________________________________________\n",
      "activation_2 (Activation)    (None, 3)                 0         \n",
      "=================================================================\n",
      "Total params: 819,971\n",
      "Trainable params: 819,971\n",
      "Non-trainable params: 0\n",
      "_________________________________________________________________\n"
     ]
    }
   ],
   "source": [
    "## LSTM 모델 / LSTM Model\n",
    "\n",
    "input_columns = 30 # 데이터 셋의 '열' 개수 (dataX) / dataset's columns (dataX)\n",
    "\n",
    "model = Sequential()\n",
    "model.add(LSTM(256, input_shape= (seq_length, input_columns), return_sequences=True, stateful=False, dropout=0.7))\n",
    "model.add(LSTM(256, return_sequences=False, stateful=False, dropout=0.7))\n",
    "#model.add(LSTM(256, return_sequences=True, stateful=True, dropout=0.7))\n",
    "model.add(Dense(3))\n",
    "model.add(Activation('softsign'))\n",
    "model.summary()"
   ]
  },
  {
   "cell_type": "code",
   "execution_count": 20,
   "metadata": {
    "scrolled": true
   },
   "outputs": [
    {
     "name": "stdout",
     "output_type": "stream",
     "text": [
      "WARNING:tensorflow:From C:\\Users\\swoos\\Anaconda3\\lib\\site-packages\\tensorflow\\python\\ops\\math_ops.py:3066: to_int32 (from tensorflow.python.ops.math_ops) is deprecated and will be removed in a future version.\n",
      "Instructions for updating:\n",
      "Use tf.cast instead.\n",
      "Epoch 1/30\n",
      "4/4 [==============================] - 2s 622ms/step - loss: 0.0267\n",
      "Epoch 2/30\n",
      "4/4 [==============================] - 0s 17ms/step - loss: 0.0321\n",
      "Epoch 3/30\n",
      "4/4 [==============================] - 0s 18ms/step - loss: 0.0487\n",
      "Epoch 4/30\n",
      "4/4 [==============================] - 0s 17ms/step - loss: 0.0198\n",
      "Epoch 5/30\n",
      "4/4 [==============================] - 0s 16ms/step - loss: 0.0250\n",
      "Epoch 6/30\n",
      "4/4 [==============================] - 0s 17ms/step - loss: 0.0352\n",
      "Epoch 7/30\n",
      "4/4 [==============================] - 0s 17ms/step - loss: 0.0275\n",
      "Epoch 8/30\n",
      "4/4 [==============================] - 0s 17ms/step - loss: 0.0252\n",
      "Epoch 9/30\n",
      "4/4 [==============================] - 0s 17ms/step - loss: 0.0388\n",
      "Epoch 10/30\n",
      "4/4 [==============================] - 0s 19ms/step - loss: 0.0430\n",
      "Epoch 11/30\n",
      "4/4 [==============================] - 0s 17ms/step - loss: 0.0427\n",
      "Epoch 12/30\n",
      "4/4 [==============================] - 0s 17ms/step - loss: 0.0902\n",
      "Epoch 13/30\n",
      "4/4 [==============================] - 0s 17ms/step - loss: 0.0456\n",
      "Epoch 14/30\n",
      "4/4 [==============================] - 0s 17ms/step - loss: 0.0368\n",
      "Epoch 15/30\n",
      "4/4 [==============================] - 0s 16ms/step - loss: 0.0414\n",
      "Epoch 16/30\n",
      "4/4 [==============================] - 0s 17ms/step - loss: 0.0369\n",
      "Epoch 17/30\n",
      "4/4 [==============================] - 0s 17ms/step - loss: 0.0346\n",
      "Epoch 18/30\n",
      "4/4 [==============================] - 0s 17ms/step - loss: 0.0671\n",
      "Epoch 19/30\n",
      "4/4 [==============================] - 0s 17ms/step - loss: 0.0563\n",
      "Epoch 20/30\n",
      "4/4 [==============================] - 0s 18ms/step - loss: 0.0426\n",
      "Epoch 21/30\n",
      "4/4 [==============================] - 0s 19ms/step - loss: 0.0457\n",
      "Epoch 22/30\n",
      "4/4 [==============================] - 0s 18ms/step - loss: 0.0360\n",
      "Epoch 23/30\n",
      "4/4 [==============================] - 0s 17ms/step - loss: 0.0496\n",
      "Epoch 24/30\n",
      "4/4 [==============================] - 0s 17ms/step - loss: 0.0439\n",
      "Epoch 25/30\n",
      "4/4 [==============================] - 0s 17ms/step - loss: 0.0216\n",
      "Epoch 26/30\n",
      "4/4 [==============================] - 0s 17ms/step - loss: 0.0310\n",
      "Epoch 27/30\n",
      "4/4 [==============================] - 0s 18ms/step - loss: 0.0280\n",
      "Epoch 28/30\n",
      "4/4 [==============================] - 0s 18ms/step - loss: 0.0418\n",
      "Epoch 29/30\n",
      "4/4 [==============================] - 0s 18ms/step - loss: 0.0421\n",
      "Epoch 30/30\n",
      "4/4 [==============================] - 0s 19ms/step - loss: 0.0281\n"
     ]
    }
   ],
   "source": [
    "# 모델 학습 설정 및 진행 / Model Training options and Progress\n",
    "keras.optimizers.Adam(lr=0.01, beta_1=0.9, beta_2=0.999, epsilon=None, decay=0.0, amsgrad=False)\n",
    "model.compile(loss='mean_squared_error', optimizer='adam')\n",
    "hist = model.fit(trainX, train_re_Y, epochs=30, batch_size=1, verbose=1)\n"
   ]
  },
  {
   "cell_type": "code",
   "execution_count": 21,
   "metadata": {},
   "outputs": [
    {
     "name": "stderr",
     "output_type": "stream",
     "text": [
      "No handles with labels found to put in legend.\n"
     ]
    },
    {
     "data": {
      "image/png": "[encoded data removed]",
      "text/plain": [
       "<Figure size 432x288 with 2 Axes>"
      ]
     },
     "metadata": {
      "needs_background": "light"
     },
     "output_type": "display_data"
    }
   ],
   "source": [
    "# 학습 과정 살펴보기 / watching train loss\n",
    "#print(hist.history['loss'])\n",
    "fig, loss_ax = plt.subplots()\n",
    "acc_ax = loss_ax.twinx()\n",
    "loss_ax.plot(hist.history['loss'], 'y', label='train loss')\n",
    "loss_ax.set_xlabel('epoch')\n",
    "loss_ax.set_ylabel('loss')\n",
    "loss_ax.legend(loc='upper left')\n",
    "acc_ax.legend(loc='lower left')\n",
    "plt.show()"
   ]
  },
  {
   "cell_type": "code",
   "execution_count": null,
   "metadata": {},
   "outputs": [],
   "source": [
    "# # 모델 저장 / Model Save\n",
    "# model.save('lstm_practice.h5')"
   ]
  },
  {
   "cell_type": "code",
   "execution_count": 22,
   "metadata": {},
   "outputs": [
    {
     "data": {
      "text/plain": [
       "((1, 2, 30), (1, 3, 1))"
      ]
     },
     "execution_count": 22,
     "metadata": {},
     "output_type": "execute_result"
    }
   ],
   "source": [
    "testX.shape , testY.shape"
   ]
  },
  {
   "cell_type": "code",
   "execution_count": 23,
   "metadata": {},
   "outputs": [
    {
     "name": "stdout",
     "output_type": "stream",
     "text": [
      "\r",
      "1/1 [==============================] - 0s 383ms/step\n"
     ]
    }
   ],
   "source": [
    "y_pred = model.predict(testX, batch_size=1, verbose=1) # , steps=5"
   ]
  },
  {
   "cell_type": "code",
   "execution_count": 29,
   "metadata": {},
   "outputs": [
    {
     "data": {
      "text/plain": [
       "(array([[ 0.28806803,  0.13836817, -0.09667628]], dtype=float32),\n",
       " array([[0.07010094, 0.07017115, 0.07243579]]))"
      ]
     },
     "execution_count": 29,
     "metadata": {},
     "output_type": "execute_result"
    }
   ],
   "source": [
    "y_pred, testY"
   ]
  },
  {
   "cell_type": "code",
   "execution_count": 25,
   "metadata": {},
   "outputs": [],
   "source": [
    "testY = testY.reshape(1,3)"
   ]
  },
  {
   "cell_type": "code",
   "execution_count": 26,
   "metadata": {},
   "outputs": [
    {
     "data": {
      "text/plain": [
       "0.16407252305933492"
      ]
     },
     "execution_count": 26,
     "metadata": {},
     "output_type": "execute_result"
    }
   ],
   "source": [
    "from sklearn.metrics import mean_squared_error\n",
    "RMSE = np.sqrt(mean_squared_error(testY,y_pred))\n",
    "RMSE"
   ]
  },
  {
   "cell_type": "code",
   "execution_count": 27,
   "metadata": {},
   "outputs": [
    {
     "data": {
      "text/html": [
       "<div>\n",
       "<style scoped>\n",
       "    .dataframe tbody tr th:only-of-type {\n",
       "        vertical-align: middle;\n",
       "    }\n",
       "\n",
       "    .dataframe tbody tr th {\n",
       "        vertical-align: top;\n",
       "    }\n",
       "\n",
       "    .dataframe thead th {\n",
       "        text-align: right;\n",
       "    }\n",
       "</style>\n",
       "<table border=\"1\" class=\"dataframe\">\n",
       "  <thead>\n",
       "    <tr style=\"text-align: right;\">\n",
       "      <th></th>\n",
       "      <th>0</th>\n",
       "      <th>1</th>\n",
       "      <th>2</th>\n",
       "      <th>3</th>\n",
       "      <th>4</th>\n",
       "      <th>5</th>\n",
       "      <th>6</th>\n",
       "      <th>7</th>\n",
       "      <th>8</th>\n",
       "      <th>9</th>\n",
       "      <th>...</th>\n",
       "      <th>20</th>\n",
       "      <th>21</th>\n",
       "      <th>22</th>\n",
       "      <th>23</th>\n",
       "      <th>24</th>\n",
       "      <th>25</th>\n",
       "      <th>26</th>\n",
       "      <th>27</th>\n",
       "      <th>28</th>\n",
       "      <th>29</th>\n",
       "    </tr>\n",
       "  </thead>\n",
       "  <tbody>\n",
       "    <tr>\n",
       "      <th>0</th>\n",
       "      <td>1.0</td>\n",
       "      <td>5.0</td>\n",
       "      <td>11.0</td>\n",
       "      <td>164.082246</td>\n",
       "      <td>64.275584</td>\n",
       "      <td>85.066084</td>\n",
       "      <td>0.835089</td>\n",
       "      <td>0.849314</td>\n",
       "      <td>1.050541</td>\n",
       "      <td>1.042505</td>\n",
       "      <td>...</td>\n",
       "      <td>25.433064</td>\n",
       "      <td>42.639791</td>\n",
       "      <td>1.882801</td>\n",
       "      <td>0.331779</td>\n",
       "      <td>0.123966</td>\n",
       "      <td>6.022633</td>\n",
       "      <td>9.439318</td>\n",
       "      <td>5.269804</td>\n",
       "      <td>9.477925</td>\n",
       "      <td>4.864434</td>\n",
       "    </tr>\n",
       "    <tr>\n",
       "      <th>1</th>\n",
       "      <td>1.0</td>\n",
       "      <td>5.0</td>\n",
       "      <td>11.0</td>\n",
       "      <td>164.286355</td>\n",
       "      <td>64.587731</td>\n",
       "      <td>85.115767</td>\n",
       "      <td>0.850260</td>\n",
       "      <td>0.853051</td>\n",
       "      <td>1.051059</td>\n",
       "      <td>1.044525</td>\n",
       "      <td>...</td>\n",
       "      <td>25.274991</td>\n",
       "      <td>42.498773</td>\n",
       "      <td>1.879216</td>\n",
       "      <td>0.339532</td>\n",
       "      <td>0.128567</td>\n",
       "      <td>5.447836</td>\n",
       "      <td>10.318163</td>\n",
       "      <td>5.139831</td>\n",
       "      <td>6.487352</td>\n",
       "      <td>4.312068</td>\n",
       "    </tr>\n",
       "    <tr>\n",
       "      <th>2</th>\n",
       "      <td>1.0</td>\n",
       "      <td>5.0</td>\n",
       "      <td>11.0</td>\n",
       "      <td>164.192092</td>\n",
       "      <td>64.525130</td>\n",
       "      <td>85.025088</td>\n",
       "      <td>0.842970</td>\n",
       "      <td>0.854034</td>\n",
       "      <td>1.046306</td>\n",
       "      <td>1.040214</td>\n",
       "      <td>...</td>\n",
       "      <td>24.761978</td>\n",
       "      <td>42.412784</td>\n",
       "      <td>1.908642</td>\n",
       "      <td>0.313033</td>\n",
       "      <td>0.127495</td>\n",
       "      <td>5.242181</td>\n",
       "      <td>9.025001</td>\n",
       "      <td>5.395798</td>\n",
       "      <td>7.162394</td>\n",
       "      <td>5.991064</td>\n",
       "    </tr>\n",
       "    <tr>\n",
       "      <th>3</th>\n",
       "      <td>1.0</td>\n",
       "      <td>5.0</td>\n",
       "      <td>11.0</td>\n",
       "      <td>164.198746</td>\n",
       "      <td>64.522639</td>\n",
       "      <td>85.004177</td>\n",
       "      <td>0.858097</td>\n",
       "      <td>0.857639</td>\n",
       "      <td>1.047118</td>\n",
       "      <td>1.042304</td>\n",
       "      <td>...</td>\n",
       "      <td>25.581728</td>\n",
       "      <td>42.685983</td>\n",
       "      <td>1.902737</td>\n",
       "      <td>0.341636</td>\n",
       "      <td>0.126737</td>\n",
       "      <td>5.344020</td>\n",
       "      <td>9.481327</td>\n",
       "      <td>5.324866</td>\n",
       "      <td>7.163669</td>\n",
       "      <td>5.152478</td>\n",
       "    </tr>\n",
       "    <tr>\n",
       "      <th>4</th>\n",
       "      <td>1.0</td>\n",
       "      <td>5.0</td>\n",
       "      <td>11.0</td>\n",
       "      <td>164.299008</td>\n",
       "      <td>64.643790</td>\n",
       "      <td>84.942024</td>\n",
       "      <td>0.867557</td>\n",
       "      <td>0.870964</td>\n",
       "      <td>1.046491</td>\n",
       "      <td>1.042075</td>\n",
       "      <td>...</td>\n",
       "      <td>25.444710</td>\n",
       "      <td>42.365930</td>\n",
       "      <td>1.912343</td>\n",
       "      <td>0.352282</td>\n",
       "      <td>0.133388</td>\n",
       "      <td>5.163603</td>\n",
       "      <td>9.145865</td>\n",
       "      <td>4.934956</td>\n",
       "      <td>7.030884</td>\n",
       "      <td>5.430357</td>\n",
       "    </tr>\n",
       "    <tr>\n",
       "      <th>5</th>\n",
       "      <td>1.0</td>\n",
       "      <td>5.0</td>\n",
       "      <td>11.0</td>\n",
       "      <td>173.919558</td>\n",
       "      <td>75.197807</td>\n",
       "      <td>84.784052</td>\n",
       "      <td>1.070561</td>\n",
       "      <td>1.069871</td>\n",
       "      <td>1.011224</td>\n",
       "      <td>1.010149</td>\n",
       "      <td>...</td>\n",
       "      <td>30.281621</td>\n",
       "      <td>50.007288</td>\n",
       "      <td>2.199261</td>\n",
       "      <td>0.458504</td>\n",
       "      <td>0.065369</td>\n",
       "      <td>5.642267</td>\n",
       "      <td>10.299977</td>\n",
       "      <td>4.922783</td>\n",
       "      <td>5.907340</td>\n",
       "      <td>5.093187</td>\n",
       "    </tr>\n",
       "    <tr>\n",
       "      <th>6</th>\n",
       "      <td>1.0</td>\n",
       "      <td>5.0</td>\n",
       "      <td>11.0</td>\n",
       "      <td>174.242687</td>\n",
       "      <td>75.816172</td>\n",
       "      <td>85.122337</td>\n",
       "      <td>1.064436</td>\n",
       "      <td>1.068575</td>\n",
       "      <td>1.011531</td>\n",
       "      <td>1.011322</td>\n",
       "      <td>...</td>\n",
       "      <td>31.107678</td>\n",
       "      <td>50.635732</td>\n",
       "      <td>2.173336</td>\n",
       "      <td>0.456646</td>\n",
       "      <td>0.070101</td>\n",
       "      <td>5.862395</td>\n",
       "      <td>8.605695</td>\n",
       "      <td>5.185965</td>\n",
       "      <td>6.613984</td>\n",
       "      <td>5.336282</td>\n",
       "    </tr>\n",
       "    <tr>\n",
       "      <th>7</th>\n",
       "      <td>1.0</td>\n",
       "      <td>5.0</td>\n",
       "      <td>11.0</td>\n",
       "      <td>170.479056</td>\n",
       "      <td>72.408390</td>\n",
       "      <td>85.412760</td>\n",
       "      <td>1.073057</td>\n",
       "      <td>1.071174</td>\n",
       "      <td>1.010183</td>\n",
       "      <td>1.010425</td>\n",
       "      <td>...</td>\n",
       "      <td>31.076026</td>\n",
       "      <td>51.031457</td>\n",
       "      <td>2.205851</td>\n",
       "      <td>0.447156</td>\n",
       "      <td>0.070171</td>\n",
       "      <td>5.716449</td>\n",
       "      <td>8.174336</td>\n",
       "      <td>4.785431</td>\n",
       "      <td>6.610226</td>\n",
       "      <td>5.735070</td>\n",
       "    </tr>\n",
       "    <tr>\n",
       "      <th>8</th>\n",
       "      <td>1.0</td>\n",
       "      <td>5.0</td>\n",
       "      <td>11.0</td>\n",
       "      <td>170.454959</td>\n",
       "      <td>72.630210</td>\n",
       "      <td>85.666327</td>\n",
       "      <td>1.068981</td>\n",
       "      <td>1.072022</td>\n",
       "      <td>1.010127</td>\n",
       "      <td>1.009610</td>\n",
       "      <td>...</td>\n",
       "      <td>31.658272</td>\n",
       "      <td>50.963437</td>\n",
       "      <td>2.177280</td>\n",
       "      <td>0.444054</td>\n",
       "      <td>0.072436</td>\n",
       "      <td>4.928141</td>\n",
       "      <td>8.545803</td>\n",
       "      <td>5.020429</td>\n",
       "      <td>5.020429</td>\n",
       "      <td>4.965056</td>\n",
       "    </tr>\n",
       "  </tbody>\n",
       "</table>\n",
       "<p>9 rows × 30 columns</p>\n",
       "</div>"
      ],
      "text/plain": [
       "    0    1     2           3          4          5         6         7   \\\n",
       "0  1.0  5.0  11.0  164.082246  64.275584  85.066084  0.835089  0.849314   \n",
       "1  1.0  5.0  11.0  164.286355  64.587731  85.115767  0.850260  0.853051   \n",
       "2  1.0  5.0  11.0  164.192092  64.525130  85.025088  0.842970  0.854034   \n",
       "3  1.0  5.0  11.0  164.198746  64.522639  85.004177  0.858097  0.857639   \n",
       "4  1.0  5.0  11.0  164.299008  64.643790  84.942024  0.867557  0.870964   \n",
       "5  1.0  5.0  11.0  173.919558  75.197807  84.784052  1.070561  1.069871   \n",
       "6  1.0  5.0  11.0  174.242687  75.816172  85.122337  1.064436  1.068575   \n",
       "7  1.0  5.0  11.0  170.479056  72.408390  85.412760  1.073057  1.071174   \n",
       "8  1.0  5.0  11.0  170.454959  72.630210  85.666327  1.068981  1.072022   \n",
       "\n",
       "         8         9   ...         20         21        22        23  \\\n",
       "0  1.050541  1.042505  ...  25.433064  42.639791  1.882801  0.331779   \n",
       "1  1.051059  1.044525  ...  25.274991  42.498773  1.879216  0.339532   \n",
       "2  1.046306  1.040214  ...  24.761978  42.412784  1.908642  0.313033   \n",
       "3  1.047118  1.042304  ...  25.581728  42.685983  1.902737  0.341636   \n",
       "4  1.046491  1.042075  ...  25.444710  42.365930  1.912343  0.352282   \n",
       "5  1.011224  1.010149  ...  30.281621  50.007288  2.199261  0.458504   \n",
       "6  1.011531  1.011322  ...  31.107678  50.635732  2.173336  0.456646   \n",
       "7  1.010183  1.010425  ...  31.076026  51.031457  2.205851  0.447156   \n",
       "8  1.010127  1.009610  ...  31.658272  50.963437  2.177280  0.444054   \n",
       "\n",
       "         24        25         26        27        28        29  \n",
       "0  0.123966  6.022633   9.439318  5.269804  9.477925  4.864434  \n",
       "1  0.128567  5.447836  10.318163  5.139831  6.487352  4.312068  \n",
       "2  0.127495  5.242181   9.025001  5.395798  7.162394  5.991064  \n",
       "3  0.126737  5.344020   9.481327  5.324866  7.163669  5.152478  \n",
       "4  0.133388  5.163603   9.145865  4.934956  7.030884  5.430357  \n",
       "5  0.065369  5.642267  10.299977  4.922783  5.907340  5.093187  \n",
       "6  0.070101  5.862395   8.605695  5.185965  6.613984  5.336282  \n",
       "7  0.070171  5.716449   8.174336  4.785431  6.610226  5.735070  \n",
       "8  0.072436  4.928141   8.545803  5.020429  5.020429  4.965056  \n",
       "\n",
       "[9 rows x 30 columns]"
      ]
     },
     "execution_count": 27,
     "metadata": {},
     "output_type": "execute_result"
    }
   ],
   "source": [
    "group_01_X"
   ]
  },
  {
   "cell_type": "code",
   "execution_count": 30,
   "metadata": {},
   "outputs": [
    {
     "data": {
      "text/plain": [
       "(1, 2, 30)"
      ]
     },
     "execution_count": 30,
     "metadata": {},
     "output_type": "execute_result"
    }
   ],
   "source": [
    "# 15,16,17  3개년도로 2018, 2019년 예측\n",
    "\n",
    "test_pred_1819 = list()\n",
    "\n",
    "# 15, 16, 17년 3개년 X 변수\n",
    "test_X = group_01_X[-2:]\n",
    "test_X = np.array(test_X)\n",
    "test_pred_1819.append(test_X)\n",
    "\n",
    "test_pred_1819 = np.array(test_pred_1819)\n",
    "\n",
    "test_pred_1819.shape"
   ]
  },
  {
   "cell_type": "code",
   "execution_count": 31,
   "metadata": {},
   "outputs": [
    {
     "data": {
      "text/plain": [
       "(1, 3)"
      ]
     },
     "execution_count": 31,
     "metadata": {},
     "output_type": "execute_result"
    }
   ],
   "source": [
    "test_re_Y\n",
    "test_re_Y.shape"
   ]
  },
  {
   "cell_type": "code",
   "execution_count": 32,
   "metadata": {},
   "outputs": [
    {
     "name": "stdout",
     "output_type": "stream",
     "text": [
      "\r",
      "1/1 [==============================] - 0s 2ms/step\n"
     ]
    },
    {
     "data": {
      "text/plain": [
       "array([[ 0.26449525,  0.13901877, -0.07847676]], dtype=float32)"
      ]
     },
     "execution_count": 32,
     "metadata": {},
     "output_type": "execute_result"
    }
   ],
   "source": [
    "y_pred_1819 = model.predict(test_pred_1819, batch_size=1, verbose=1)\n",
    "\n",
    "y_pred_1819"
   ]
  },
  {
   "cell_type": "code",
   "execution_count": 34,
   "metadata": {},
   "outputs": [
    {
     "data": {
      "text/html": [
       "<div>\n",
       "<style scoped>\n",
       "    .dataframe tbody tr th:only-of-type {\n",
       "        vertical-align: middle;\n",
       "    }\n",
       "\n",
       "    .dataframe tbody tr th {\n",
       "        vertical-align: top;\n",
       "    }\n",
       "\n",
       "    .dataframe thead th {\n",
       "        text-align: right;\n",
       "    }\n",
       "</style>\n",
       "<table border=\"1\" class=\"dataframe\">\n",
       "  <thead>\n",
       "    <tr style=\"text-align: right;\">\n",
       "      <th></th>\n",
       "      <th>0</th>\n",
       "    </tr>\n",
       "  </thead>\n",
       "  <tbody>\n",
       "    <tr>\n",
       "      <th>0</th>\n",
       "      <td>0.123966</td>\n",
       "    </tr>\n",
       "    <tr>\n",
       "      <th>0</th>\n",
       "      <td>0.128567</td>\n",
       "    </tr>\n",
       "    <tr>\n",
       "      <th>0</th>\n",
       "      <td>0.127495</td>\n",
       "    </tr>\n",
       "    <tr>\n",
       "      <th>0</th>\n",
       "      <td>0.126737</td>\n",
       "    </tr>\n",
       "    <tr>\n",
       "      <th>0</th>\n",
       "      <td>0.133388</td>\n",
       "    </tr>\n",
       "    <tr>\n",
       "      <th>0</th>\n",
       "      <td>0.065369</td>\n",
       "    </tr>\n",
       "    <tr>\n",
       "      <th>0</th>\n",
       "      <td>0.070101</td>\n",
       "    </tr>\n",
       "    <tr>\n",
       "      <th>0</th>\n",
       "      <td>0.070171</td>\n",
       "    </tr>\n",
       "    <tr>\n",
       "      <th>0</th>\n",
       "      <td>0.072436</td>\n",
       "    </tr>\n",
       "  </tbody>\n",
       "</table>\n",
       "</div>"
      ],
      "text/plain": [
       "          0\n",
       "0  0.123966\n",
       "0  0.128567\n",
       "0  0.127495\n",
       "0  0.126737\n",
       "0  0.133388\n",
       "0  0.065369\n",
       "0  0.070101\n",
       "0  0.070171\n",
       "0  0.072436"
      ]
     },
     "execution_count": 34,
     "metadata": {},
     "output_type": "execute_result"
    }
   ],
   "source": [
    "group_01_Y"
   ]
  }
 ],
 "metadata": {
  "kernelspec": {
   "display_name": "Python 3",
   "language": "python",
   "name": "python3"
  },
  "language_info": {
   "codemirror_mode": {
    "name": "ipython",
    "version": 3
   },
   "file_extension": ".py",
   "mimetype": "text/x-python",
   "name": "python",
   "nbconvert_exporter": "python",
   "pygments_lexer": "ipython3",
   "version": "3.7.3"
  }
 },
 "nbformat": 4,
 "nbformat_minor": 2
}
