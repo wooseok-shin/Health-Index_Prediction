{
 "cells": [
  {
   "cell_type": "code",
   "execution_count": 1,
   "metadata": {},
   "outputs": [
    {
     "name": "stderr",
     "output_type": "stream",
     "text": [
      "Using TensorFlow backend.\n"
     ]
    }
   ],
   "source": [
    "import pandas as pd\n",
    "import numpy as np\n",
    "from sklearn.model_selection import train_test_split\n",
    "from sklearn import metrics\n",
    "\n",
    "import keras\n",
    "from keras.utils import np_utils\n",
    "from keras.models import Sequential\n",
    "from keras.layers import Dense, LSTM, Dropout, Activation\n",
    "\n",
    "import keras\n",
    "from keras.models import Sequential\n",
    "from keras import optimizers\n",
    "from sklearn.metrics import mean_squared_error, mean_absolute_error\n",
    "from keras.models import load_model\n",
    "\n",
    "import matplotlib.pyplot as plt\n",
    "%matplotlib inline"
   ]
  },
  {
   "cell_type": "code",
   "execution_count": 14,
   "metadata": {},
   "outputs": [],
   "source": [
    "from modules import select_group, model_train, y_pred, make_testset"
   ]
  },
  {
   "cell_type": "markdown",
   "metadata": {},
   "source": [
    "## 원하는 Group 추출"
   ]
  },
  {
   "cell_type": "code",
   "execution_count": 3,
   "metadata": {},
   "outputs": [],
   "source": [
    "#  group( n, k)   n=그룹 번호 /  k = 3개년도로 다음년도를 예측\n",
    "\n",
    "trainX, trainY, testX, testY, group_01_X = select_group(0, 3)"
   ]
  },
  {
   "cell_type": "code",
   "execution_count": 4,
   "metadata": {},
   "outputs": [
    {
     "data": {
      "text/plain": [
       "((5, 3, 29), (5,), (1, 3, 29), (1,))"
      ]
     },
     "execution_count": 4,
     "metadata": {},
     "output_type": "execute_result"
    }
   ],
   "source": [
    "trainX.shape, trainY.shape, testX.shape, testY.shape"
   ]
  },
  {
   "cell_type": "markdown",
   "metadata": {},
   "source": [
    "## Model Training"
   ]
  },
  {
   "cell_type": "code",
   "execution_count": 5,
   "metadata": {
    "scrolled": true
   },
   "outputs": [
    {
     "name": "stdout",
     "output_type": "stream",
     "text": [
      "WARNING:tensorflow:From C:\\Users\\swoos\\Anaconda3\\lib\\site-packages\\tensorflow\\python\\framework\\op_def_library.py:263: colocate_with (from tensorflow.python.framework.ops) is deprecated and will be removed in a future version.\n",
      "Instructions for updating:\n",
      "Colocations handled automatically by placer.\n",
      "_________________________________________________________________\n",
      "Layer (type)                 Output Shape              Param #   \n",
      "=================================================================\n",
      "lstm_1 (LSTM)                (None, 3, 128)            80896     \n",
      "_________________________________________________________________\n",
      "lstm_2 (LSTM)                (None, 128)               131584    \n",
      "_________________________________________________________________\n",
      "dense_1 (Dense)              (None, 1)                 129       \n",
      "_________________________________________________________________\n",
      "activation_1 (Activation)    (None, 1)                 0         \n",
      "=================================================================\n",
      "Total params: 212,609\n",
      "Trainable params: 212,609\n",
      "Non-trainable params: 0\n",
      "_________________________________________________________________\n",
      "==================================================\n",
      "WARNING:tensorflow:From C:\\Users\\swoos\\Anaconda3\\lib\\site-packages\\tensorflow\\python\\ops\\math_ops.py:3066: to_int32 (from tensorflow.python.ops.math_ops) is deprecated and will be removed in a future version.\n",
      "Instructions for updating:\n",
      "Use tf.cast instead.\n",
      "Train on 5 samples, validate on 1 samples\n",
      "Epoch 1/100\n",
      "5/5 [==============================] - 2s 478ms/step - loss: 0.0035 - val_loss: 0.0841\n",
      "Epoch 2/100\n",
      "5/5 [==============================] - 0s 2ms/step - loss: 0.0653 - val_loss: 0.0042\n",
      "Epoch 3/100\n",
      "5/5 [==============================] - 0s 2ms/step - loss: 0.0097 - val_loss: 0.0128\n",
      "Epoch 4/100\n",
      "5/5 [==============================] - 0s 2ms/step - loss: 0.0050 - val_loss: 0.0363\n",
      "Epoch 5/100\n",
      "5/5 [==============================] - 0s 2ms/step - loss: 0.0232 - val_loss: 0.0324\n",
      "Epoch 6/100\n",
      "5/5 [==============================] - 0s 2ms/step - loss: 0.0234 - val_loss: 0.0158\n",
      "Epoch 7/100\n",
      "5/5 [==============================] - 0s 2ms/step - loss: 0.0108 - val_loss: 0.0026\n",
      "Epoch 8/100\n",
      "5/5 [==============================] - 0s 2ms/step - loss: 0.0014 - val_loss: 5.7202e-04\n",
      "Epoch 9/100\n",
      "5/5 [==============================] - 0s 2ms/step - loss: 0.0022 - val_loss: 0.0060\n",
      "Epoch 10/100\n",
      "5/5 [==============================] - 0s 2ms/step - loss: 0.0075 - val_loss: 0.0093\n",
      "Epoch 11/100\n",
      "5/5 [==============================] - 0s 2ms/step - loss: 0.0099 - val_loss: 0.0072\n",
      "Epoch 12/100\n",
      "5/5 [==============================] - 0s 2ms/step - loss: 0.0075 - val_loss: 0.0027\n",
      "Epoch 13/100\n",
      "5/5 [==============================] - 0s 2ms/step - loss: 0.0033 - val_loss: 1.0339e-04\n",
      "Epoch 14/100\n",
      "5/5 [==============================] - 0s 3ms/step - loss: 7.9086e-04 - val_loss: 8.3662e-04\n",
      "Epoch 15/100\n",
      "5/5 [==============================] - 0s 2ms/step - loss: 0.0015 - val_loss: 0.0032\n",
      "Epoch 16/100\n",
      "5/5 [==============================] - 0s 2ms/step - loss: 0.0038 - val_loss: 0.0046\n",
      "Epoch 17/100\n",
      "5/5 [==============================] - 0s 2ms/step - loss: 0.0052 - val_loss: 0.0039\n",
      "Epoch 18/100\n",
      "5/5 [==============================] - 0s 2ms/step - loss: 0.0046 - val_loss: 0.0020\n",
      "Epoch 19/100\n",
      "5/5 [==============================] - 0s 3ms/step - loss: 0.0026 - val_loss: 3.3617e-04\n",
      "Epoch 20/100\n",
      "5/5 [==============================] - 0s 3ms/step - loss: 9.9540e-04 - val_loss: 7.7256e-05\n",
      "Epoch 21/100\n",
      "5/5 [==============================] - 0s 2ms/step - loss: 7.4780e-04 - val_loss: 9.6100e-04\n",
      "Epoch 22/100\n",
      "5/5 [==============================] - 0s 2ms/step - loss: 0.0017 - val_loss: 0.0019\n",
      "Epoch 23/100\n",
      "5/5 [==============================] - 0s 2ms/step - loss: 0.0027 - val_loss: 0.0020\n",
      "Epoch 24/100\n",
      "5/5 [==============================] - 0s 3ms/step - loss: 0.0029 - val_loss: 0.0013\n",
      "Epoch 25/100\n",
      "5/5 [==============================] - 0s 3ms/step - loss: 0.0021 - val_loss: 3.5315e-04\n",
      "Epoch 26/100\n",
      "5/5 [==============================] - 0s 3ms/step - loss: 0.0011 - val_loss: 2.2044e-06\n",
      "Epoch 27/100\n",
      "5/5 [==============================] - 0s 3ms/step - loss: 6.3657e-04 - val_loss: 4.2010e-04\n",
      "Epoch 28/100\n",
      "5/5 [==============================] - 0s 3ms/step - loss: 8.5906e-04 - val_loss: 0.0012\n",
      "Epoch 29/100\n",
      "5/5 [==============================] - 0s 3ms/step - loss: 0.0014 - val_loss: 0.0016\n",
      "Epoch 30/100\n",
      "5/5 [==============================] - 0s 2ms/step - loss: 0.0018 - val_loss: 0.0015\n",
      "Epoch 31/100\n",
      "5/5 [==============================] - 0s 3ms/step - loss: 0.0016 - val_loss: 8.9042e-04\n",
      "Epoch 32/100\n",
      "5/5 [==============================] - 0s 2ms/step - loss: 0.0011 - val_loss: 2.9091e-04\n",
      "Epoch 33/100\n",
      "5/5 [==============================] - 0s 3ms/step - loss: 6.6681e-04 - val_loss: 1.3310e-05\n",
      "Epoch 34/100\n",
      "5/5 [==============================] - 0s 3ms/step - loss: 6.3291e-04 - val_loss: 5.0035e-05\n",
      "Epoch 35/100\n",
      "5/5 [==============================] - 0s 3ms/step - loss: 9.0397e-04 - val_loss: 1.6053e-04\n",
      "Epoch 36/100\n",
      "5/5 [==============================] - 0s 2ms/step - loss: 0.0012 - val_loss: 1.4652e-04\n",
      "Epoch 37/100\n",
      "5/5 [==============================] - 0s 3ms/step - loss: 0.0012 - val_loss: 3.4740e-05\n",
      "Epoch 38/100\n",
      "5/5 [==============================] - 0s 3ms/step - loss: 9.3051e-04 - val_loss: 1.7111e-05\n",
      "Epoch 39/100\n",
      "5/5 [==============================] - 0s 3ms/step - loss: 6.6774e-04 - val_loss: 2.3671e-04\n",
      "Epoch 40/100\n",
      "5/5 [==============================] - 0s 3ms/step - loss: 5.8926e-04 - val_loss: 6.3189e-04\n",
      "Epoch 41/100\n",
      "5/5 [==============================] - 0s 3ms/step - loss: 7.1059e-04 - val_loss: 9.7510e-04\n",
      "Epoch 42/100\n",
      "5/5 [==============================] - 0s 3ms/step - loss: 8.7249e-04 - val_loss: 0.0011\n",
      "Epoch 43/100\n",
      "5/5 [==============================] - 0s 2ms/step - loss: 9.0830e-04 - val_loss: 8.5329e-04\n",
      "Epoch 44/100\n",
      "5/5 [==============================] - 0s 2ms/step - loss: 7.9268e-04 - val_loss: 5.0741e-04\n",
      "Epoch 45/100\n",
      "5/5 [==============================] - 0s 2ms/step - loss: 6.4133e-04 - val_loss: 2.0995e-04\n",
      "Epoch 46/100\n",
      "5/5 [==============================] - 0s 2ms/step - loss: 5.8414e-04 - val_loss: 5.3141e-05\n",
      "Epoch 47/100\n",
      "5/5 [==============================] - 0s 2ms/step - loss: 6.4516e-04 - val_loss: 7.4050e-06\n",
      "Epoch 48/100\n",
      "5/5 [==============================] - 0s 3ms/step - loss: 7.3726e-04 - val_loss: 3.0434e-06\n",
      "Epoch 49/100\n",
      "5/5 [==============================] - 0s 3ms/step - loss: 7.6009e-04 - val_loss: 1.8396e-05\n",
      "Epoch 50/100\n",
      "5/5 [==============================] - 0s 3ms/step - loss: 6.9572e-04 - val_loss: 8.6947e-05\n",
      "Epoch 51/100\n",
      "5/5 [==============================] - 0s 3ms/step - loss: 6.1259e-04 - val_loss: 2.3171e-04\n",
      "Epoch 52/100\n",
      "5/5 [==============================] - 0s 3ms/step - loss: 5.8653e-04 - val_loss: 4.0698e-04\n",
      "Epoch 53/100\n",
      "5/5 [==============================] - 0s 3ms/step - loss: 6.2122e-04 - val_loss: 5.2333e-04\n",
      "Epoch 54/100\n",
      "5/5 [==============================] - 0s 2ms/step - loss: 6.6568e-04 - val_loss: 5.1712e-04\n",
      "Epoch 55/100\n",
      "5/5 [==============================] - 0s 3ms/step - loss: 6.7062e-04 - val_loss: 3.9726e-04\n",
      "Epoch 56/100\n",
      "5/5 [==============================] - 0s 3ms/step - loss: 6.3054e-04 - val_loss: 2.3537e-04\n",
      "Epoch 57/100\n",
      "5/5 [==============================] - 0s 3ms/step - loss: 5.8792e-04 - val_loss: 1.0591e-04\n",
      "Epoch 58/100\n",
      "5/5 [==============================] - 0s 2ms/step - loss: 5.8102e-04 - val_loss: 3.7549e-05\n",
      "Epoch 59/100\n",
      "5/5 [==============================] - 0s 3ms/step - loss: 6.0646e-04 - val_loss: 1.4762e-05\n",
      "Epoch 60/100\n",
      "5/5 [==============================] - 0s 2ms/step - loss: 6.2928e-04 - val_loss: 1.4527e-05\n",
      "Epoch 61/100\n",
      "5/5 [==============================] - 0s 3ms/step - loss: 6.2342e-04 - val_loss: 3.2874e-05\n",
      "Epoch 62/100\n",
      "5/5 [==============================] - 0s 3ms/step - loss: 5.9678e-04 - val_loss: 7.6824e-05\n",
      "Epoch 63/100\n",
      "5/5 [==============================] - 0s 3ms/step - loss: 5.7753e-04 - val_loss: 1.3942e-04\n",
      "Epoch 64/100\n",
      "5/5 [==============================] - 0s 3ms/step - loss: 5.8164e-04 - val_loss: 1.9188e-04\n",
      "Epoch 65/100\n",
      "5/5 [==============================] - 0s 2ms/step - loss: 5.9830e-04 - val_loss: 2.0368e-04\n",
      "Epoch 66/100\n"
     ]
    },
    {
     "name": "stdout",
     "output_type": "stream",
     "text": [
      "5/5 [==============================] - 0s 2ms/step - loss: 6.0555e-04 - val_loss: 1.6861e-04\n",
      "Epoch 67/100\n",
      "5/5 [==============================] - 0s 2ms/step - loss: 5.9529e-04 - val_loss: 1.0901e-04\n",
      "Epoch 68/100\n",
      "5/5 [==============================] - 0s 3ms/step - loss: 5.7957e-04 - val_loss: 5.5391e-05\n",
      "Epoch 69/100\n",
      "5/5 [==============================] - 0s 3ms/step - loss: 5.7436e-04 - val_loss: 2.3774e-05\n",
      "Epoch 70/100\n",
      "5/5 [==============================] - 0s 2ms/step - loss: 5.8169e-04 - val_loss: 1.1757e-05\n",
      "Epoch 71/100\n",
      "5/5 [==============================] - 0s 2ms/step - loss: 5.8977e-04 - val_loss: 1.1498e-05\n",
      "Epoch 72/100\n",
      "5/5 [==============================] - 0s 3ms/step - loss: 5.8808e-04 - val_loss: 2.1082e-05\n",
      "Epoch 73/100\n",
      "5/5 [==============================] - 0s 3ms/step - loss: 5.7874e-04 - val_loss: 4.2083e-05\n",
      "Epoch 74/100\n",
      "5/5 [==============================] - 0s 3ms/step - loss: 5.7200e-04 - val_loss: 6.9905e-05\n",
      "Epoch 75/100\n",
      "5/5 [==============================] - 0s 3ms/step - loss: 5.7355e-04 - val_loss: 9.1482e-05\n",
      "Epoch 76/100\n",
      "5/5 [==============================] - 0s 2ms/step - loss: 5.7886e-04 - val_loss: 9.4521e-05\n",
      "Epoch 77/100\n",
      "5/5 [==============================] - 0s 2ms/step - loss: 5.8001e-04 - val_loss: 7.7986e-05\n",
      "Epoch 78/100\n",
      "5/5 [==============================] - 0s 2ms/step - loss: 5.7519e-04 - val_loss: 5.2341e-05\n",
      "Epoch 79/100\n",
      "5/5 [==============================] - 0s 2ms/step - loss: 5.6977e-04 - val_loss: 3.0066e-05\n",
      "Epoch 80/100\n",
      "5/5 [==============================] - 0s 3ms/step - loss: 5.6890e-04 - val_loss: 1.7095e-05\n",
      "Epoch 81/100\n",
      "5/5 [==============================] - 0s 3ms/step - loss: 5.7163e-04 - val_loss: 1.2726e-05\n",
      "Epoch 82/100\n",
      "5/5 [==============================] - 0s 2ms/step - loss: 5.7302e-04 - val_loss: 1.4953e-05\n",
      "Epoch 83/100\n",
      "5/5 [==============================] - 0s 2ms/step - loss: 5.7056e-04 - val_loss: 2.3206e-05\n",
      "Epoch 84/100\n",
      "5/5 [==============================] - 0s 2ms/step - loss: 5.6672e-04 - val_loss: 3.5975e-05\n",
      "Epoch 85/100\n",
      "5/5 [==============================] - 0s 3ms/step - loss: 5.6517e-04 - val_loss: 4.8191e-05\n",
      "Epoch 86/100\n",
      "5/5 [==============================] - 0s 3ms/step - loss: 5.6622e-04 - val_loss: 5.3291e-05\n",
      "Epoch 87/100\n",
      "5/5 [==============================] - 0s 3ms/step - loss: 5.6702e-04 - val_loss: 4.8347e-05\n",
      "Epoch 88/100\n",
      "5/5 [==============================] - 0s 3ms/step - loss: 5.6550e-04 - val_loss: 3.6431e-05\n",
      "Epoch 89/100\n",
      "5/5 [==============================] - 0s 2ms/step - loss: 5.6275e-04 - val_loss: 2.3715e-05\n",
      "Epoch 90/100\n",
      "5/5 [==============================] - 0s 2ms/step - loss: 5.6113e-04 - val_loss: 1.4720e-05\n",
      "Epoch 91/100\n",
      "5/5 [==============================] - 0s 3ms/step - loss: 5.6119e-04 - val_loss: 1.0479e-05\n",
      "Epoch 92/100\n",
      "5/5 [==============================] - 0s 3ms/step - loss: 5.6129e-04 - val_loss: 1.0180e-05\n",
      "Epoch 93/100\n",
      "5/5 [==============================] - 0s 3ms/step - loss: 5.5999e-04 - val_loss: 1.2998e-05\n",
      "Epoch 94/100\n",
      "5/5 [==============================] - 0s 3ms/step - loss: 5.5778e-04 - val_loss: 1.7883e-05\n",
      "Epoch 95/100\n",
      "5/5 [==============================] - 0s 3ms/step - loss: 5.5616e-04 - val_loss: 2.2579e-05\n",
      "Epoch 96/100\n",
      "5/5 [==============================] - 0s 3ms/step - loss: 5.5556e-04 - val_loss: 2.4264e-05\n",
      "Epoch 97/100\n",
      "5/5 [==============================] - 0s 3ms/step - loss: 5.5501e-04 - val_loss: 2.1638e-05\n",
      "Epoch 98/100\n",
      "5/5 [==============================] - 0s 3ms/step - loss: 5.5359e-04 - val_loss: 1.6040e-05\n",
      "Epoch 99/100\n",
      "5/5 [==============================] - 0s 3ms/step - loss: 5.5162e-04 - val_loss: 1.0217e-05\n",
      "Epoch 100/100\n",
      "5/5 [==============================] - 0s 3ms/step - loss: 5.5005e-04 - val_loss: 6.1654e-06\n"
     ]
    }
   ],
   "source": [
    "# 모델학습 함수\n",
    "\n",
    "model, hist = model_train(trainX, trainY, testX, testY, epochs=100)"
   ]
  },
  {
   "cell_type": "markdown",
   "metadata": {},
   "source": [
    "## 학습과정 Loss"
   ]
  },
  {
   "cell_type": "code",
   "execution_count": 6,
   "metadata": {},
   "outputs": [
    {
     "name": "stderr",
     "output_type": "stream",
     "text": [
      "No handles with labels found to put in legend.\n"
     ]
    },
    {
     "data": {
      "image/png": "[encoded data removed]",
      "text/plain": [
       "<Figure size 432x288 with 2 Axes>"
      ]
     },
     "metadata": {
      "needs_background": "light"
     },
     "output_type": "display_data"
    }
   ],
   "source": [
    "# 학습 과정 살펴보기\n",
    "\n",
    "fig, loss_ax = plt.subplots()\n",
    "acc_ax = loss_ax.twinx()\n",
    "loss_ax.plot(hist.history['loss'], 'y', label='train loss')\n",
    "loss_ax.plot(hist.history['val_loss'], 'r', label='val loss')\n",
    "loss_ax.set_xlabel('epoch')\n",
    "loss_ax.set_ylabel('loss')\n",
    "loss_ax.legend(loc='upper left')\n",
    "acc_ax.legend(loc='lower left')\n",
    "plt.show()"
   ]
  },
  {
   "cell_type": "markdown",
   "metadata": {},
   "source": [
    "### Test set으로 Predict"
   ]
  },
  {
   "cell_type": "code",
   "execution_count": 9,
   "metadata": {},
   "outputs": [
    {
     "name": "stdout",
     "output_type": "stream",
     "text": [
      "\r",
      "1/1 [==============================] - 0s 2ms/step\n"
     ]
    }
   ],
   "source": [
    "result, RMSE, MAE, MAPE = y_pred(testX, testY, model)"
   ]
  },
  {
   "cell_type": "code",
   "execution_count": 19,
   "metadata": {},
   "outputs": [
    {
     "name": "stdout",
     "output_type": "stream",
     "text": [
      "Target 값의 예측값과 실제값\n"
     ]
    },
    {
     "data": {
      "text/html": [
       "<div>\n",
       "<style scoped>\n",
       "    .dataframe tbody tr th:only-of-type {\n",
       "        vertical-align: middle;\n",
       "    }\n",
       "\n",
       "    .dataframe tbody tr th {\n",
       "        vertical-align: top;\n",
       "    }\n",
       "\n",
       "    .dataframe thead th {\n",
       "        text-align: right;\n",
       "    }\n",
       "</style>\n",
       "<table border=\"1\" class=\"dataframe\">\n",
       "  <thead>\n",
       "    <tr style=\"text-align: right;\">\n",
       "      <th></th>\n",
       "      <th>0</th>\n",
       "    </tr>\n",
       "  </thead>\n",
       "  <tbody>\n",
       "    <tr>\n",
       "      <th>y_pred</th>\n",
       "      <td>0.069953</td>\n",
       "    </tr>\n",
       "    <tr>\n",
       "      <th>real_y</th>\n",
       "      <td>0.072436</td>\n",
       "    </tr>\n",
       "  </tbody>\n",
       "</table>\n",
       "</div>"
      ],
      "text/plain": [
       "               0\n",
       "y_pred  0.069953\n",
       "real_y  0.072436"
      ]
     },
     "execution_count": 19,
     "metadata": {},
     "output_type": "execute_result"
    }
   ],
   "source": [
    "print(\"Target 값의 예측값과 실제값\")\n",
    "result"
   ]
  },
  {
   "cell_type": "markdown",
   "metadata": {},
   "source": [
    "#### 실제로 목표로하는 2020년 Target값을 예측하기 위한 Test X data set"
   ]
  },
  {
   "cell_type": "code",
   "execution_count": 20,
   "metadata": {
    "scrolled": true
   },
   "outputs": [],
   "source": [
    "predict_next_X = make_testset(group_01_X)"
   ]
  },
  {
   "cell_type": "code",
   "execution_count": 22,
   "metadata": {},
   "outputs": [
    {
     "data": {
      "text/plain": [
       "array([[0.06884553]], dtype=float32)"
      ]
     },
     "execution_count": 22,
     "metadata": {},
     "output_type": "execute_result"
    }
   ],
   "source": [
    "y_pred_20 = model.predict(predict_next_X, batch_size=1)\n",
    "y_pred_20"
   ]
  }
 ],
 "metadata": {
  "kernelspec": {
   "display_name": "Python 3",
   "language": "python",
   "name": "python3"
  },
  "language_info": {
   "codemirror_mode": {
    "name": "ipython",
    "version": 3
   },
   "file_extension": ".py",
   "mimetype": "text/x-python",
   "name": "python",
   "nbconvert_exporter": "python",
   "pygments_lexer": "ipython3",
   "version": "3.7.3"
  }
 },
 "nbformat": 4,
 "nbformat_minor": 2
}
